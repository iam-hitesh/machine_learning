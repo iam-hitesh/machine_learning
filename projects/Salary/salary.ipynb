{
 "cells": [
  {
   "cell_type": "markdown",
   "metadata": {},
   "source": []
  },
  {
   "cell_type": "code",
   "execution_count": 31,
   "metadata": {},
   "outputs": [
    {
     "data": {
      "text/plain": [
       "[<matplotlib.lines.Line2D at 0x10ef21630>]"
      ]
     },
     "execution_count": 31,
     "metadata": {},
     "output_type": "execute_result"
    },
    {
     "data": {
      "image/png": "[encoded data removed]",
      "text/plain": [
       "<Figure size 432x288 with 1 Axes>"
      ]
     },
     "metadata": {},
     "output_type": "display_data"
    }
   ],
   "source": [
    "import pandas as pd\n",
    "import numpy as np\n",
    "import matplotlib.pyplot as plt\n",
    "\n",
    "%matplotlib inline\n",
    "\n",
    "\n",
    "salary = pd.read_csv('salary.csv')\n",
    "\n",
    "X = salary['YearsExperience'].values\n",
    "Y = salary['Salary'].values\n",
    "\n",
    "from sklearn.cross_validation import train_test_split\n",
    "X_train, X_test, Y_train, Y_test = train_test_split(X, Y, test_size = 1/3, random_state = 0)\n",
    "\n",
    "\n",
    "# This is Common Denominator\n",
    "denominator = X_test.dot(X_test) - X_test.mean() * X_test.sum()\n",
    "\n",
    "## Find m and b in y = mx + b\n",
    "## Find formula for m and b in predictive_models/linear_regression\n",
    "\n",
    "m = (X_test.dot(Y_test) - Y_test.mean() * X_test.sum()) / denominator\n",
    "b = (Y_test.mean() * X_test.dot(X_test) - X_test.mean() * X_test.dot(Y_test)) / denominator\n",
    "\n",
    "Y_pred = (m * X_test) + b\n",
    "\n",
    "plt.scatter(X_test,Y_test)\n",
    "plt.plot(X_test,Y_pred,'r')"
   ]
  },
  {
   "cell_type": "code",
   "execution_count": 29,
   "metadata": {},
   "outputs": [
    {
     "data": {
      "text/plain": [
       "0.9796341417447251"
      ]
     },
     "execution_count": 29,
     "metadata": {},
     "output_type": "execute_result"
    }
   ],
   "source": [
    "res = Y_test - Y_pred\n",
    "tot = Y_test - Y_test.mean()\n",
    "\n",
    "R_squared = 1 - res.dot(res) / tot.dot(tot)\n",
    "\n",
    "R_squared"
   ]
  },
  {
   "cell_type": "markdown",
   "metadata": {},
   "source": [
    "So, 97.9% of the variation in Y_test can be explained using X_test."
   ]
  },
  {
   "cell_type": "code",
   "execution_count": null,
   "metadata": {},
   "outputs": [],
   "source": []
  }
 ],
 "metadata": {
  "kernelspec": {
   "display_name": "Python 3",
   "language": "python",
   "name": "python3"
  },
  "language_info": {
   "codemirror_mode": {
    "name": "ipython",
    "version": 3
   },
   "file_extension": ".py",
   "mimetype": "text/x-python",
   "name": "python",
   "nbconvert_exporter": "python",
   "pygments_lexer": "ipython3",
   "version": "3.6.5"
  }
 },
 "nbformat": 4,
 "nbformat_minor": 2
}
