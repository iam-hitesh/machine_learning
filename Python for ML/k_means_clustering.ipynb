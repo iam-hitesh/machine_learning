{
 "cells": [
  {
   "cell_type": "markdown",
   "metadata": {},
   "source": [
    "# K - Means Clustering"
   ]
  },
  {
   "cell_type": "markdown",
   "metadata": {},
   "source": [
    "1. Attempts to split data into K groups that are closest to K centroids\n",
    "2. Unsupervised Learning - uses only the positions of each data point\n",
    "3. Can uncover Interesting groupings of people /things/behaviour\n",
    "\n",
    "... Example : Where do Millionaries live.\n",
    "\n",
    "... What genres of music/movies/etc. naturally fall out of data?\n",
    "\n",
    "... Create your own stereotypes from demographic data"
   ]
  },
  {
   "cell_type": "markdown",
   "metadata": {},
   "source": [
    "How it Works\n",
    "\n",
    "1. Randomly pick K - Centroids (K - means).\n",
    "2. Assign each data point to the centroid it's closet to.\n",
    "3. Recompute the centroids based on the average position of each centroid's point.\n",
    "4. Iterate until points stop changing assignments to centroids.\n",
    "\n",
    "If you want to predict the cluster for new points, just find the centroid they're closet to."
   ]
  },
  {
   "cell_type": "markdown",
   "metadata": {},
   "source": [
    "### Choosing K\n",
    "\n",
    "1. Try increasing K values until you stop getting large reductions in squared error.(distances from each point to their centroids.)\n",
    "\n",
    "### Avoiding Local Minima\n",
    "\n",
    "1. The random choice of initial centroids can yield different results.\n",
    "2. Run it a few times just to make sure your initial results are not wacky.\n",
    "\n",
    "### Labeling the clusters.\n",
    "\n",
    "1. K-means doesn't attempt to assign any meaning to the clusters you find.\n",
    "2. It's up to you to dig into the data and try to determine that."
   ]
  },
  {
   "cell_type": "code",
   "execution_count": null,
   "metadata": {},
   "outputs": [],
   "source": []
  }
 ],
 "metadata": {
  "kernelspec": {
   "display_name": "Python 3",
   "language": "python",
   "name": "python3"
  },
  "language_info": {
   "codemirror_mode": {
    "name": "ipython",
    "version": 3
   },
   "file_extension": ".py",
   "mimetype": "text/x-python",
   "name": "python",
   "nbconvert_exporter": "python",
   "pygments_lexer": "ipython3",
   "version": "3.6.5"
  }
 },
 "nbformat": 4,
 "nbformat_minor": 2
}
