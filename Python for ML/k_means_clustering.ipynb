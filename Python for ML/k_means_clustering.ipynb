{
 "cells": [
  {
   "cell_type": "markdown",
   "metadata": {},
   "source": [
    "# K - Means Clustering"
   ]
  },
  {
   "cell_type": "markdown",
   "metadata": {},
   "source": [
    "1. Attempts to split data into K groups that are closest to K centroids\n",
    "2. Unsupervised Learning - uses only the positions of each data point\n",
    "3. Can uncover Interesting groupings of people /things/behaviour\n",
    "\n",
    "... Example : Where do Millionaries live.\n",
    "\n",
    "... What genres of music/movies/etc. naturally fall out of data?\n",
    "\n",
    "... Create your own stereotypes from demographic data"
   ]
  },
  {
   "cell_type": "markdown",
   "metadata": {},
   "source": [
    "How it Works\n",
    "\n",
    "1. Randomly pick K - Centroids (K - means).\n",
    "2. Assign each data point to the centroid it's closet to.\n",
    "3. Recompute the centroids based on the average position of each centroid's point.\n",
    "4. Iterate until points stop changing assignments to centroids.\n",
    "\n",
    "If you want to predict the cluster for new points, just find the centroid they're closet to."
   ]
  },
  {
   "cell_type": "markdown",
   "metadata": {},
   "source": [
    "### Choosing K\n",
    "\n",
    "1. Try increasing K values until you stop getting large reductions in squared error.(distances from each point to their centroids.)\n",
    "\n",
    "### Avoiding Local Minima\n",
    "\n",
    "1. The random choice of initial centroids can yield different results.\n",
    "2. Run it a few times just to make sure your initial results are not wacky.\n",
    "\n",
    "### Labeling the clusters.\n",
    "\n",
    "1. K-means doesn't attempt to assign any meaning to the clusters you find.\n",
    "2. It's up to you to dig into the data and try to determine that."
   ]
  },
  {
   "cell_type": "markdown",
   "metadata": {},
   "source": [
    "### K - Means Clustering Examples\n",
    "\n",
    "Let's Make some fake data that includes people clustered by income and age, randomly\n"
   ]
  },
  {
   "cell_type": "code",
   "execution_count": 24,
   "metadata": {},
   "outputs": [],
   "source": [
    "#Create fake income/age clusters for N people in k clusters\n",
    "import numpy as np\n",
    "\n",
    "def createClusteredData(peoples, clusters):\n",
    "    np.random.seed(10)\n",
    "    pointsPerCluster = float(peoples)/clusters\n",
    "    x = []\n",
    "    for i in range(clusters):\n",
    "        incomeCentroid = np.random.uniform(20000.0, 200000.0)\n",
    "        ageCentroid = np.random.uniform(20.0, 70.0)\n",
    "        for j in range(int(pointsPerCluster)):\n",
    "            # np.random.normal(incomeCentroid, std deviation)\n",
    "            x.append([np.random.normal(incomeCentroid, 10000.0), np.random.normal(ageCentroid, 2.0)])\n",
    "    x = np.array(x)\n",
    "    return x"
   ]
  },
  {
   "cell_type": "code",
   "execution_count": 23,
   "metadata": {},
   "outputs": [
    {
     "data": {
      "text/plain": [
       "array([[1.72153581e+05, 2.24681554e+01],\n",
       "       [1.43383713e+05, 2.10208298e+01],\n",
       "       [1.65051076e+05, 1.95974263e+01],\n",
       "       ...,\n",
       "       [6.76342344e+04, 6.47695491e+01],\n",
       "       [9.08264319e+04, 6.21434305e+01],\n",
       "       [9.60798820e+04, 6.49662186e+01]])"
      ]
     },
     "execution_count": 23,
     "metadata": {},
     "output_type": "execute_result"
    }
   ],
   "source": [
    "createClusteredData(2000, 200)"
   ]
  },
  {
   "cell_type": "markdown",
   "metadata": {},
   "source": [
    "#### We will use K-means to rediscover these clusters in unsupervised learning:"
   ]
  },
  {
   "cell_type": "code",
   "execution_count": 25,
   "metadata": {},
   "outputs": [
    {
     "name": "stdout",
     "output_type": "stream",
     "text": [
      "[0 0 0 0 0 0 0 0 0 0 0 0 0 0 0 0 0 0 0 0 1 1 1 1 1 1 1 1 1 1 1 1 1 1 1 1 1\n",
      " 1 1 1 4 4 4 4 4 4 4 4 4 4 4 4 4 4 4 4 4 4 4 2 3 3 3 3 3 3 3 3 3 3 3 3 3 3\n",
      " 3 3 3 3 3 3 2 2 2 2 2 2 2 2 2 2 2 2 2 2 2 2 2 2 2 2]\n"
     ]
    },
    {
     "data": {
      "image/png": "[encoded data removed]",
      "text/plain": [
       "<Figure size 576x432 with 1 Axes>"
      ]
     },
     "metadata": {},
     "output_type": "display_data"
    }
   ],
   "source": [
    "from sklearn.cluster import KMeans\n",
    "import matplotlib.pyplot as plt\n",
    "from sklearn.preprocessing import scale\n",
    "\n",
    "data = createClusteredData(100, 5)\n",
    "\n",
    "model = KMeans(n_clusters = 5)\n",
    "\n",
    "# Note I'm scaling the data to normalize it! Important for good results.\n",
    "model = model.fit(scale(data))\n",
    "\n",
    "# We can look at the clusters each data point was assigned to\n",
    "print(model.labels_)\n",
    "\n",
    "\n",
    "# We will Visualize it\n",
    "\n",
    "plt.figure(figsize = (8, 6))\n",
    "plt.scatter(data[:,0], data[:,1], c = model.labels_.astype(np.float))\n",
    "plt.show()"
   ]
  },
  {
   "cell_type": "code",
   "execution_count": null,
   "metadata": {},
   "outputs": [],
   "source": []
  }
 ],
 "metadata": {
  "kernelspec": {
   "display_name": "Python 3",
   "language": "python",
   "name": "python3"
  },
  "language_info": {
   "codemirror_mode": {
    "name": "ipython",
    "version": 3
   },
   "file_extension": ".py",
   "mimetype": "text/x-python",
   "name": "python",
   "nbconvert_exporter": "python",
   "pygments_lexer": "ipython3",
   "version": "3.6.5"
  }
 },
 "nbformat": 4,
 "nbformat_minor": 2
}
