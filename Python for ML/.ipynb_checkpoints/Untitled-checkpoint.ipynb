{
 "cells": [
  {
   "cell_type": "markdown",
   "metadata": {},
   "source": [
    "## Ensemble Learning\n",
    "\n",
    "- Random forests was an example of ensemble learning\n",
    "- It just means we use multiple models to try and solve the same problem, and let them vote on results.\n"
   ]
  },
  {
   "cell_type": "markdown",
   "metadata": {},
   "source": [
    "- Random forests uses bagging (bootstrap aggregating) to implement ensemble learning.\n",
    " - Many models are built by training on randomly-drawn subsets of the data.\n",
    " \n",
    "- Boosting is an alternate technique where each subsequent model in the ensemble boosts attributes that address data mis-classified by the previous model.\n",
    "\n",
    "- A bucket of models trains several different models using training data, and picks the one that works best with the test data.\n",
    "\n",
    "- Stacking runs multiple models at once on the data, and combine the results together.\n",
    " - This is how netflix Prize was won."
   ]
  },
  {
   "cell_type": "markdown",
   "metadata": {},
   "source": [
    "## Support Vector Machines\n",
    "\n",
    "- Works well for classifying higher - dimensional data(lots of features)\n",
    "- Finds higher-dimensional support vectors across which to divide the data(mathematically, these support vectors define hyperlanes. Needless to say I'm not going to get into the mathematical details!)\n",
    "- Uses something called the kernel trick to represent data in higher-dimensional spaces to find hyperlanes that might not be apparent in lower dimensions."
   ]
  },
  {
   "cell_type": "markdown",
   "metadata": {},
   "source": [
    "### Higher Dimensions? Hyperlanes? \n",
    "\n",
    "- This important point is that SVM's employ some advanced mathematical trickery to cluster data, and it can handle data sets with lots of features.\n",
    "\n",
    "- It's also fairly expensive - the \"Kernel Trick\" is the only thing that makes it possible."
   ]
  },
  {
   "cell_type": "code",
   "execution_count": null,
   "metadata": {},
   "outputs": [],
   "source": []
  }
 ],
 "metadata": {
  "kernelspec": {
   "display_name": "Python 3",
   "language": "python",
   "name": "python3"
  },
  "language_info": {
   "codemirror_mode": {
    "name": "ipython",
    "version": 3
   },
   "file_extension": ".py",
   "mimetype": "text/x-python",
   "name": "python",
   "nbconvert_exporter": "python",
   "pygments_lexer": "ipython3",
   "version": "3.6.5"
  }
 },
 "nbformat": 4,
 "nbformat_minor": 2
}
