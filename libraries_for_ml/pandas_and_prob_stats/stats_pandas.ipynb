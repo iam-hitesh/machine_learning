{
 "cells": [
  {
   "cell_type": "markdown",
   "metadata": {},
   "source": [
    "## Mean and Median\n",
    "In this we will generate some fake incomes and find mean and median using numpy library"
   ]
  },
  {
   "cell_type": "code",
   "execution_count": 5,
   "metadata": {},
   "outputs": [
    {
     "data": {
      "text/plain": [
       "27099.34881388491"
      ]
     },
     "execution_count": 5,
     "metadata": {},
     "output_type": "execute_result"
    }
   ],
   "source": [
    "import numpy as np\n",
    "import matplotlib.pyplot as plt\n",
    "\n",
    "incomes = np.random.normal(27000,15000,10000)\n",
    "np.mean(incomes)"
   ]
  },
  {
   "cell_type": "code",
   "execution_count": 6,
   "metadata": {},
   "outputs": [
    {
     "data": {
      "image/png": "[encoded data removed]",
      "text/plain": [
       "<Figure size 432x288 with 1 Axes>"
      ]
     },
     "metadata": {},
     "output_type": "display_data"
    }
   ],
   "source": [
    "plt.hist(incomes,50)\n",
    "plt.show()"
   ]
  },
  {
   "cell_type": "code",
   "execution_count": null,
   "metadata": {},
   "outputs": [],
   "source": [
    "incomes = np.append(incomes,[100000000])\n",
    "np.mean(incomes)"
   ]
  },
  {
   "cell_type": "code",
   "execution_count": 30,
   "metadata": {},
   "outputs": [
    {
     "data": {
      "text/plain": [
       "27095.3437852812"
      ]
     },
     "execution_count": 30,
     "metadata": {},
     "output_type": "execute_result"
    }
   ],
   "source": [
    "np.median(incomes)"
   ]
  },
  {
   "cell_type": "markdown",
   "metadata": {},
   "source": [
    "## Mode\n",
    "Next we will generate some fake age for peoples for finding the mode using scipy"
   ]
  },
  {
   "cell_type": "code",
   "execution_count": 25,
   "metadata": {},
   "outputs": [
    {
     "data": {
      "text/plain": [
       "array([71, 35, 89, 79, 63, 72, 59, 28, 56, 83, 53, 18, 78, 56, 29, 53, 27,\n",
       "       77, 19, 47, 51, 41, 54, 31, 38, 47, 52, 85, 53, 85, 85, 68, 67, 40,\n",
       "       72, 80, 54, 42, 60, 70, 59, 56, 70, 79, 82, 19, 46, 58, 18, 36, 67,\n",
       "       31, 44, 35, 56, 20, 41, 63, 28, 21, 21, 87, 55, 28, 60, 84, 88, 53,\n",
       "       72, 26, 19, 63, 48, 78, 27, 79, 47, 66, 41, 28, 60, 89, 74, 39, 34,\n",
       "       20, 74, 72, 29, 44, 84, 89, 37, 51, 38, 78, 21, 56, 28, 79, 55, 45,\n",
       "       61, 46, 60, 29, 33, 27, 80, 67, 18, 74, 36, 29, 49, 50, 35, 61, 64,\n",
       "       87, 48, 83, 59, 79, 82, 49, 57, 88, 28, 73, 72, 61, 50, 62, 64, 85,\n",
       "       75, 50, 56, 66, 52, 75, 86, 50, 47, 78, 46, 66, 72, 63, 77, 68, 30,\n",
       "       64, 36, 33, 63, 26, 66, 26, 33, 35, 44, 69, 80, 50, 81, 23, 23, 75,\n",
       "       51, 73, 63, 29, 57, 26, 53, 31, 29, 20, 60, 78, 41, 56, 68, 82, 23,\n",
       "       76, 53, 64, 68, 45, 65, 23, 29, 49, 23, 83, 36, 42, 31, 66, 21, 71,\n",
       "       66, 65, 87, 78, 47, 83, 75, 79, 77, 61, 49, 22, 60, 89, 76, 54, 67,\n",
       "       71, 72, 52, 67, 46, 61, 70, 78, 33, 28, 87, 39, 44, 70, 49, 76, 76,\n",
       "       69, 79, 85, 45, 71, 66, 80, 34, 60, 22, 21, 40, 84, 73, 24, 74, 55,\n",
       "       47, 29, 58, 49, 42, 45, 43, 25, 34, 76, 76, 33, 32, 47, 80, 77, 44,\n",
       "       65, 33, 62, 51, 24, 32, 43, 33, 88, 58, 48, 89, 70, 71, 21, 87, 54,\n",
       "       77, 44, 66, 41, 80, 26, 30, 88, 47, 27, 43, 24, 82, 68, 19, 40, 67,\n",
       "       74, 72, 41, 49, 40, 64, 59, 48, 23, 26, 64, 82, 26, 73, 87, 41, 72,\n",
       "       51, 25, 21, 84, 49, 61, 61, 33, 24, 36, 89, 55, 88, 69, 28, 27, 86,\n",
       "       58, 53, 88, 44, 60, 47, 29, 80, 52, 64, 48, 35, 57, 35, 52, 50, 27,\n",
       "       74, 56, 19, 46, 20, 75, 66, 47, 83, 21, 68, 18, 24, 79, 25, 24, 84,\n",
       "       34, 50, 66, 20, 50, 66, 56, 60, 82, 77, 80, 32, 50, 38, 74, 50, 37,\n",
       "       51, 57, 56, 60, 86, 76, 63, 69, 88, 34, 80, 32, 81, 60, 56, 42, 52,\n",
       "       87, 19, 48, 80, 18, 43, 89, 66, 34, 47, 62, 43, 30, 34, 80, 38, 59,\n",
       "       60, 89, 30, 81, 76, 56, 20, 66, 51, 45, 40, 48, 75, 58, 44, 30, 51,\n",
       "       87, 29, 61, 35, 67, 80, 52, 33, 49, 37, 26, 73, 80, 40, 36, 71, 74,\n",
       "       47, 76, 77, 87, 60, 36, 62, 48, 44, 26, 83, 64, 52, 37, 83, 72, 47,\n",
       "       37, 43, 61, 86, 27, 46, 54, 40, 29, 49, 51, 82, 72, 64, 36, 26, 41,\n",
       "       75, 74, 25, 40, 45, 37, 49])"
      ]
     },
     "execution_count": 25,
     "metadata": {},
     "output_type": "execute_result"
    }
   ],
   "source": [
    "ages = np.random.randint(18,high=90,size=500)\n",
    "ages"
   ]
  },
  {
   "cell_type": "code",
   "execution_count": 32,
   "metadata": {},
   "outputs": [
    {
     "data": {
      "text/plain": [
       "ModeResult(mode=array([47]), count=array([13]))"
      ]
     },
     "execution_count": 32,
     "metadata": {},
     "output_type": "execute_result"
    }
   ],
   "source": [
    "from scipy import stats\n",
    "stats.mode(ages)"
   ]
  },
  {
   "cell_type": "markdown",
   "metadata": {},
   "source": [
    "## Variation and Standard Deviation\n",
    "We will create some fake data for finding variation and standard deviation\n",
    "\n",
    "variance = ((mean - (all_numbers))^2)/total_size\n",
    "standard deviation is just the square root of variance\n",
    "\n",
    "Population(Working with all data) and sample (some 10-20 rows)"
   ]
  },
  {
   "cell_type": "code",
   "execution_count": 33,
   "metadata": {},
   "outputs": [
    {
     "data": {
      "text/plain": [
       "15150.20393237425"
      ]
     },
     "execution_count": 33,
     "metadata": {},
     "output_type": "execute_result"
    }
   ],
   "source": [
    "incomes.std()"
   ]
  },
  {
   "cell_type": "code",
   "execution_count": 34,
   "metadata": {},
   "outputs": [
    {
     "data": {
      "text/plain": [
       "229528679.1925282"
      ]
     },
     "execution_count": 34,
     "metadata": {},
     "output_type": "execute_result"
    }
   ],
   "source": [
    "incomes.var()"
   ]
  },
  {
   "cell_type": "markdown",
   "metadata": {},
   "source": [
    "## Probability Density Function and Probability Mass Function\n",
    "## Examples of Data Distribution\n",
    "\n",
    "### Uniform Distribution\n"
   ]
  },
  {
   "cell_type": "code",
   "execution_count": 36,
   "metadata": {},
   "outputs": [
    {
     "data": {
      "image/png": "[encoded data removed]",
      "text/plain": [
       "<Figure size 432x288 with 1 Axes>"
      ]
     },
     "metadata": {},
     "output_type": "display_data"
    }
   ],
   "source": [
    "values = np.random.uniform(-10.0,10.0,100000)\n",
    "plt.hist(values,50)\n",
    "plt.show()"
   ]
  },
  {
   "cell_type": "markdown",
   "metadata": {},
   "source": [
    "## Normal / Gaussian\n",
    "Visualize the probability density function"
   ]
  },
  {
   "cell_type": "code",
   "execution_count": 40,
   "metadata": {},
   "outputs": [
    {
     "data": {
      "text/plain": [
       "[<matplotlib.lines.Line2D at 0x11296ae48>]"
      ]
     },
     "execution_count": 40,
     "metadata": {},
     "output_type": "execute_result"
    },
    {
     "data": {
      "image/png": "[encoded data removed]",
      "text/plain": [
       "<Figure size 432x288 with 1 Axes>"
      ]
     },
     "metadata": {},
     "output_type": "display_data"
    }
   ],
   "source": [
    "from scipy.stats import norm\n",
    "\n",
    "x = np.arange(-3,3,0.001)\n",
    "plt.plot(x,norm.pdf(x))"
   ]
  },
  {
   "cell_type": "markdown",
   "metadata": {},
   "source": [
    "Generate some random numbers with a normal distribution. \"mu\" is the desired mean and , \"sigma\" is the standard deviation"
   ]
  },
  {
   "cell_type": "code",
   "execution_count": 43,
   "metadata": {},
   "outputs": [
    {
     "data": {
      "image/png": "[encoded data removed]",
      "text/plain": [
       "<Figure size 432x288 with 1 Axes>"
      ]
     },
     "metadata": {},
     "output_type": "display_data"
    }
   ],
   "source": [
    "mu = 5.0\n",
    "sigma = 2.0\n",
    "\n",
    "values = np.random.normal(mu,sigma,10000)\n",
    "plt.hist(values,50)\n",
    "plt.show()"
   ]
  },
  {
   "cell_type": "markdown",
   "metadata": {},
   "source": [
    "## Exponential PDF(Probability Distribution Function) / \"Power Law\""
   ]
  },
  {
   "cell_type": "code",
   "execution_count": 45,
   "metadata": {},
   "outputs": [
    {
     "data": {
      "text/plain": [
       "[<matplotlib.lines.Line2D at 0x110461828>]"
      ]
     },
     "execution_count": 45,
     "metadata": {},
     "output_type": "execute_result"
    },
    {
     "data": {
      "image/png": "[encoded data removed]",
      "text/plain": [
       "<Figure size 432x288 with 1 Axes>"
      ]
     },
     "metadata": {},
     "output_type": "display_data"
    }
   ],
   "source": [
    "from scipy.stats import expon\n",
    "\n",
    "x = np.arange(0,10,0.01)\n",
    "plt.plot(x,expon.pdf(x))"
   ]
  },
  {
   "cell_type": "markdown",
   "metadata": {},
   "source": [
    "## Binomial Distribution Mass Function"
   ]
  },
  {
   "cell_type": "code",
   "execution_count": 49,
   "metadata": {},
   "outputs": [
    {
     "data": {
      "text/plain": [
       "[<matplotlib.lines.Line2D at 0x110310d68>]"
      ]
     },
     "execution_count": 49,
     "metadata": {},
     "output_type": "execute_result"
    },
    {
     "data": {
      "image/png": "[encoded data removed]",
      "text/plain": [
       "<Figure size 432x288 with 1 Axes>"
      ]
     },
     "metadata": {},
     "output_type": "display_data"
    }
   ],
   "source": [
    "from scipy.stats import binom\n",
    "\n",
    "n,p = 10,0.5\n",
    "x = np.arange(0,10,0.001)\n",
    "plt.plot(x,binom.pmf(x,n,p))"
   ]
  },
  {
   "cell_type": "markdown",
   "metadata": {},
   "source": [
    "## Poisson Probability Mass Function \n",
    "Example : My Website gets on average 500 visits per day.What's the odds of getting 550??"
   ]
  },
  {
   "cell_type": "code",
   "execution_count": 50,
   "metadata": {},
   "outputs": [
    {
     "data": {
      "text/plain": [
       "[<matplotlib.lines.Line2D at 0x1102236d8>]"
      ]
     },
     "execution_count": 50,
     "metadata": {},
     "output_type": "execute_result"
    },
    {
     "data": {
      "image/png": "[encoded data removed]",
      "text/plain": [
       "<Figure size 432x288 with 1 Axes>"
      ]
     },
     "metadata": {},
     "output_type": "display_data"
    }
   ],
   "source": [
    "from scipy.stats import poisson\n",
    "\n",
    "mu = 500\n",
    "x = np.arange(400,600,0.5)\n",
    "plt.plot(x,poisson.pmf(x,mu))"
   ]
  },
  {
   "cell_type": "markdown",
   "metadata": {},
   "source": [
    "## Percentile and Moments"
   ]
  },
  {
   "cell_type": "code",
   "execution_count": 13,
   "metadata": {},
   "outputs": [
    {
     "data": {
      "image/png": "[encoded data removed]",
      "text/plain": [
       "<Figure size 432x288 with 1 Axes>"
      ]
     },
     "metadata": {},
     "output_type": "display_data"
    }
   ],
   "source": [
    "vals = np.random.normal(0,0.5,10000)\n",
    "\n",
    "plt.hist(vals,10)\n",
    "plt.show()"
   ]
  },
  {
   "cell_type": "code",
   "execution_count": 9,
   "metadata": {},
   "outputs": [
    {
     "data": {
      "text/plain": [
       "-0.002145955847214996"
      ]
     },
     "execution_count": 9,
     "metadata": {},
     "output_type": "execute_result"
    }
   ],
   "source": [
    "np.percentile(vals,50)"
   ]
  },
  {
   "cell_type": "code",
   "execution_count": 10,
   "metadata": {},
   "outputs": [
    {
     "data": {
      "text/plain": [
       "0.6348588434616959"
      ]
     },
     "execution_count": 10,
     "metadata": {},
     "output_type": "execute_result"
    }
   ],
   "source": [
    "np.percentile(vals,90)"
   ]
  },
  {
   "cell_type": "code",
   "execution_count": 12,
   "metadata": {},
   "outputs": [
    {
     "data": {
      "text/plain": [
       "-0.42201182583045954"
      ]
     },
     "execution_count": 12,
     "metadata": {},
     "output_type": "execute_result"
    }
   ],
   "source": [
    "np.percentile(vals,20)"
   ]
  },
  {
   "cell_type": "markdown",
   "metadata": {},
   "source": [
    "### Moments : Mean, Variance, Skew, Kurtosis\n",
    "\n",
    "1st Moment is Known as mean\n",
    "\n",
    "2nd moment is known as variance\n",
    "\n",
    "3rd as Skew\n",
    "\n",
    "and\n",
    "\n",
    "4th as Kurtosis"
   ]
  },
  {
   "cell_type": "code",
   "execution_count": 15,
   "metadata": {},
   "outputs": [
    {
     "data": {
      "image/png": "[encoded data removed]",
      "text/plain": [
       "<Figure size 432x288 with 1 Axes>"
      ]
     },
     "metadata": {},
     "output_type": "display_data"
    }
   ],
   "source": [
    "vals = np.random.normal(0,0.5,10000)\n",
    "\n",
    "plt.hist(vals,5)\n",
    "plt.show()"
   ]
  },
  {
   "cell_type": "code",
   "execution_count": 16,
   "metadata": {},
   "outputs": [
    {
     "data": {
      "text/plain": [
       "-0.0006539281997165526"
      ]
     },
     "execution_count": 16,
     "metadata": {},
     "output_type": "execute_result"
    }
   ],
   "source": [
    "# This is 1st Moment\n",
    "np.mean(vals)"
   ]
  },
  {
   "cell_type": "code",
   "execution_count": 18,
   "metadata": {},
   "outputs": [
    {
     "data": {
      "text/plain": [
       "0.24743408910145917"
      ]
     },
     "execution_count": 18,
     "metadata": {},
     "output_type": "execute_result"
    }
   ],
   "source": [
    "# This is 2nd Moment\n",
    "np.var(vals)"
   ]
  },
  {
   "cell_type": "code",
   "execution_count": 24,
   "metadata": {},
   "outputs": [
    {
     "data": {
      "text/plain": [
       "0.017585366161680185"
      ]
     },
     "execution_count": 24,
     "metadata": {},
     "output_type": "execute_result"
    }
   ],
   "source": [
    "import scipy.stats as sp\n",
    "sp.skew(vals)"
   ]
  },
  {
   "cell_type": "code",
   "execution_count": 25,
   "metadata": {},
   "outputs": [
    {
     "data": {
      "text/plain": [
       "0.01882161829514084"
      ]
     },
     "execution_count": 25,
     "metadata": {},
     "output_type": "execute_result"
    }
   ],
   "source": [
    "sp.kurtosis(vals)"
   ]
  },
  {
   "cell_type": "markdown",
   "metadata": {},
   "source": [
    "### Covariance and Correlation"
   ]
  },
  {
   "cell_type": "code",
   "execution_count": null,
   "metadata": {},
   "outputs": [],
   "source": []
  }
 ],
 "metadata": {
  "kernelspec": {
   "display_name": "Python 3",
   "language": "python",
   "name": "python3"
  },
  "language_info": {
   "codemirror_mode": {
    "name": "ipython",
    "version": 3
   },
   "file_extension": ".py",
   "mimetype": "text/x-python",
   "name": "python",
   "nbconvert_exporter": "python",
   "pygments_lexer": "ipython3",
   "version": "3.6.5"
  }
 },
 "nbformat": 4,
 "nbformat_minor": 2
}
