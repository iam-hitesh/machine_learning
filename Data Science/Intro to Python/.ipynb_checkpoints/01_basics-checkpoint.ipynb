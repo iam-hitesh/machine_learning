{
 "cells": [
  {
   "cell_type": "markdown",
   "metadata": {},
   "source": [
    "In Learning Machine Learning we will go with step by step, following are the steps\n",
    "\n",
    "- Python\n",
    "- Python Libraries (Numpy, Pandas, Matplotlib, etc.)\n",
    "- Processing Scripts\n",
    "- Clean Data\n",
    "- Concepts of Data Science\n",
    "- Algorithms for Machine Learning\n",
    "\n",
    "# Python Installation\n",
    "\n",
    "[Tutorials Point for Installing Python on Your System](https://www.tutorialspoint.com/python/python_environment.htm)\n",
    "\n",
    "[Python Installation at Djangogirls.org](https://tutorial.djangogirls.org/en/python_installation/)\n",
    "\n",
    "\n",
    "\n",
    "Along with python installation install Jupyter Notebook in your system we will work on Jupyter notebook, you can also install anaconda and start Jupyter Notebook as Anaconda have already installed Jupyter Notebook in it.\n",
    "\n",
    "Search Internet for Jupyter notebook for your system, its easy and you will also learn about searching different queries online. If You have any problem just ping me."
   ]
  },
  {
   "cell_type": "markdown",
   "metadata": {},
   "source": [
    "## Python Basics\n",
    "\n",
    "\n",
    "We will start with basic Hello World Print on the Screen, for Installation and basic docs refer README of this folder."
   ]
  },
  {
   "cell_type": "code",
   "execution_count": 1,
   "metadata": {},
   "outputs": [
    {
     "name": "stdout",
     "output_type": "stream",
     "text": [
      "Hello World\n",
      "Hello World\n"
     ]
    }
   ],
   "source": [
    "print('Hello World') # Gives Hello World, This method is for both Python 3 and 2\n",
    "print(\"Hello World\") # Gives Hello World, This method is for both Python 3 and 2\n",
    "# print \"Hello World\"  # Gives Hello World, This method is only for Python 2\n",
    "# print 'Hello World'  # Gives Hello World, This method is only for Python 2\n"
   ]
  }
 ],
 "metadata": {
  "kernelspec": {
   "display_name": "Python 3",
   "language": "python",
   "name": "python3"
  },
  "language_info": {
   "codemirror_mode": {
    "name": "ipython",
    "version": 3
   },
   "file_extension": ".py",
   "mimetype": "text/x-python",
   "name": "python",
   "nbconvert_exporter": "python",
   "pygments_lexer": "ipython3",
   "version": "3.6.5"
  }
 },
 "nbformat": 4,
 "nbformat_minor": 2
}
