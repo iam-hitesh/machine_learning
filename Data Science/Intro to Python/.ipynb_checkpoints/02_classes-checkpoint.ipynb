{
 "cells": [
  {
   "cell_type": "markdown",
   "metadata": {},
   "source": [
    "## Python Classes\n",
    "\n",
    "Here are examples of Python Classes.\n"
   ]
  },
  {
   "cell_type": "code",
   "execution_count": 4,
   "metadata": {},
   "outputs": [
    {
     "name": "stdout",
     "output_type": "stream",
     "text": [
      "Lab\n",
      "Tommy\n",
      "Mammal\n"
     ]
    }
   ],
   "source": [
    "class Dog():\n",
    "\n",
    "    # CLASS OBJECT ATTRIBUTE\n",
    "    species = 'Mammal'\n",
    "\n",
    "    def __init__(self,breed,name):\n",
    "        self.breed = breed\n",
    "        self.name = name\n",
    "\n",
    "\n",
    "mydog = Dog('Lab',\"Tommy\")\n",
    "print(mydog.breed)\n",
    "print(mydog.name)\n",
    "print(mydog.species)\n",
    "\n",
    "\n",
    "\n",
    "# class Dog():\n",
    "#     def __init__(self,breed,name):\n",
    "#         self.breed = breed\n",
    "#         self.name = name\n",
    "\n",
    "\n",
    "# mydog = Dog(breed='Lab',name=\"Tommy\")\n",
    "# print(mydog.breed)\n",
    "# print(mydog.name)\n",
    "\n",
    "\n",
    "# class Dog():\n",
    "#     def __init__(self,breed,name):\n",
    "#         self.breed = breed\n",
    "#         self.name = name\n",
    "\n",
    "\n",
    "# mydog = Dog('Lab',\"Tommy\")\n",
    "# print(mydog.breed)\n",
    "# print(mydog.name)\n"
   ]
  },
  {
   "cell_type": "code",
   "execution_count": 5,
   "metadata": {},
   "outputs": [
    {
     "name": "stdout",
     "output_type": "stream",
     "text": [
      "100\n",
      "31400.0\n"
     ]
    }
   ],
   "source": [
    "class Circle():\n",
    "    pi = 3.14\n",
    "\n",
    "    def __init__(self,radius=1):\n",
    "        self.radius = radius\n",
    "\n",
    "    def area(self):\n",
    "        return (self.radius ** 2)*Circle.pi\n",
    "\n",
    "    def set_radius(self,new_r):\n",
    "        self.radius = new_r\n",
    "\n",
    "\n",
    "circle1 = Circle(radius=3)\n",
    "circle1.set_radius(100)\n",
    "\n",
    "print(circle1.radius)\n",
    "print(circle1.area())\n"
   ]
  }
 ],
 "metadata": {
  "kernelspec": {
   "display_name": "Python 3",
   "language": "python",
   "name": "python3"
  },
  "language_info": {
   "codemirror_mode": {
    "name": "ipython",
    "version": 3
   },
   "file_extension": ".py",
   "mimetype": "text/x-python",
   "name": "python",
   "nbconvert_exporter": "python",
   "pygments_lexer": "ipython3",
   "version": "3.6.5"
  }
 },
 "nbformat": 4,
 "nbformat_minor": 2
}
