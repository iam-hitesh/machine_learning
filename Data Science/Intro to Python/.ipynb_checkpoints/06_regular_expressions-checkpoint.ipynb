{
 "cells": [
  {
   "cell_type": "markdown",
   "metadata": {},
   "source": [
    "### Regular Expressions\n",
    "\n",
    "Here are examples of regular expressions in python."
   ]
  },
  {
   "cell_type": "code",
   "execution_count": 24,
   "metadata": {},
   "outputs": [
    {
     "name": "stdout",
     "output_type": "stream",
     "text": [
      "I am searching for: term1\n",
      "Match Find\n",
      "I am searching for: term2\n",
      "Match Not Find\n"
     ]
    }
   ],
   "source": [
    "import re # Import for regular expressions\n",
    "\n",
    "patterns = ['term1','term2']\n",
    "\n",
    "text = 'This is string with term1, not the other!'\n",
    "\n",
    "for pattern in patterns:\n",
    "    print('I am searching for: '+pattern)\n",
    "\n",
    "    if re.search(pattern,text):\n",
    "        print('Match Find')\n",
    "    else:\n",
    "        print('Match Not Find')\n",
    "\n",
    "\n"
   ]
  },
  {
   "cell_type": "code",
   "execution_count": 25,
   "metadata": {},
   "outputs": [
    {
     "name": "stdout",
     "output_type": "stream",
     "text": [
      "20\n"
     ]
    }
   ],
   "source": [
    "match = re.search('term1',text)\n",
    "print(match.start())"
   ]
  },
  {
   "cell_type": "markdown",
   "metadata": {},
   "source": [
    "### For Spliting terms into parts"
   ]
  },
  {
   "cell_type": "code",
   "execution_count": 26,
   "metadata": {},
   "outputs": [
    {
     "name": "stdout",
     "output_type": "stream",
     "text": [
      "['wrt user', 'email.com']\n"
     ]
    }
   ],
   "source": [
    "split_term = '@'\n",
    "email = 'wrt user@email.com'\n",
    "split_mail = re.split(split_term,email)\n",
    "print(split_mail)"
   ]
  },
  {
   "cell_type": "markdown",
   "metadata": {},
   "source": [
    "### For finding all Matches"
   ]
  },
  {
   "cell_type": "code",
   "execution_count": 27,
   "metadata": {},
   "outputs": [
    {
     "name": "stdout",
     "output_type": "stream",
     "text": [
      "['match', 'match']\n"
     ]
    }
   ],
   "source": [
    "print(re.findall('match','test phrase match in middle match'))"
   ]
  },
  {
   "cell_type": "code",
   "execution_count": 29,
   "metadata": {},
   "outputs": [],
   "source": [
    "def multi_find(patterns,phrase):\n",
    "    for pat in patterns:\n",
    "        print('searching for pattern {}'.format(pat))\n",
    "        print(re.findall(pat,phrase))\n",
    "        print('\\n')"
   ]
  },
  {
   "cell_type": "code",
   "execution_count": 30,
   "metadata": {},
   "outputs": [
    {
     "name": "stdout",
     "output_type": "stream",
     "text": [
      "searching for pattern sd*\n",
      "['s', 'sddd', 's', 's', 'sd', 's', 's', 's', 's', 's', 's', 's', 's', 's', 's', 's']\n",
      "\n",
      "\n"
     ]
    }
   ],
   "source": [
    "test_phrase = 'ssddd.sssd..ds.d..s.d.s.ds.dsjsjkflsjf.s.sjskfsl'\n",
    "test_patterns = ['sd*']\n",
    "multi_find(test_patterns,test_phrase)"
   ]
  },
  {
   "cell_type": "code",
   "execution_count": 32,
   "metadata": {},
   "outputs": [
    {
     "name": "stdout",
     "output_type": "stream",
     "text": [
      "searching for pattern [^!.?]+\n",
      "['This is a string', ' But it has punctuation', ' How we can remove it']\n",
      "\n",
      "\n"
     ]
    }
   ],
   "source": [
    "test_phrase_2 = 'This is a string! But it has punctuation. How we can remove it?'\n",
    "test_patterns_2 = ['[^!.?]+']\n",
    "multi_find(test_patterns_2,test_phrase_2)"
   ]
  }
 ],
 "metadata": {
  "kernelspec": {
   "display_name": "Python 3",
   "language": "python",
   "name": "python3"
  },
  "language_info": {
   "codemirror_mode": {
    "name": "ipython",
    "version": 3
   },
   "file_extension": ".py",
   "mimetype": "text/x-python",
   "name": "python",
   "nbconvert_exporter": "python",
   "pygments_lexer": "ipython3",
   "version": "3.6.5"
  }
 },
 "nbformat": 4,
 "nbformat_minor": 2
}
