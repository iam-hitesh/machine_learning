{
 "cells": [
  {
   "cell_type": "markdown",
   "metadata": {},
   "source": [
    "### Error Handling\n",
    "\n",
    "Example of Error Handling in Python"
   ]
  },
  {
   "cell_type": "code",
   "execution_count": 21,
   "metadata": {},
   "outputs": [
    {
     "name": "stdout",
     "output_type": "stream",
     "text": [
      "ERROR : Could not find file or read data\n",
      "THIS IS SAVER\n"
     ]
    }
   ],
   "source": [
    "try:\n",
    "    f = open('Open.txt','r')\n",
    "    f.write(\"Write Simple Text\")\n",
    "\n",
    "except IOError:\n",
    "    print('ERROR : Could not find file or read data')\n",
    "\n",
    "finally:\n",
    "    print('THIS IS SAVER')\n"
   ]
  }
 ],
 "metadata": {
  "kernelspec": {
   "display_name": "Python 3",
   "language": "python",
   "name": "python3"
  },
  "language_info": {
   "codemirror_mode": {
    "name": "ipython",
    "version": 3
   },
   "file_extension": ".py",
   "mimetype": "text/x-python",
   "name": "python",
   "nbconvert_exporter": "python",
   "pygments_lexer": "ipython3",
   "version": "3.6.5"
  }
 },
 "nbformat": 4,
 "nbformat_minor": 2
}
