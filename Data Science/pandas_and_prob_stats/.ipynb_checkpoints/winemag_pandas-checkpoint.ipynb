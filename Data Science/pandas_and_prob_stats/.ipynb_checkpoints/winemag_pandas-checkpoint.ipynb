{
 "cells": [
  {
   "cell_type": "code",
   "execution_count": 1,
   "metadata": {},
   "outputs": [
    {
     "data": {
      "text/plain": [
       "<matplotlib.axes._subplots.AxesSubplot at 0x10d0032e8>"
      ]
     },
     "execution_count": 1,
     "metadata": {},
     "output_type": "execute_result"
    }
   ],
   "source": [
    "import pandas as pd\n",
    "import seaborn as sns\n",
    "# from learntools.advanced_pandas.indexing_selecting_assigning import *\n",
    "\n",
    "reviews = pd.read_csv('winemag-data-130k-v2.csv',index_col=0)\n",
    "# pd.set_option(\"display.max_rows\",5)\n",
    "\n",
    "# reviews.head()\n",
    "# reviews['description'][0]\n",
    "# reviews.loc[[row_num_from:row_num_to],[col_num/name_from:col_num/name_to]]\n",
    "# reviews.loc[1,]\n",
    "\n",
    "\n",
    "# numpy_matrix = df.as_matrix()\n",
    "# reviews.iloc[[1,2,3,5,8]]\n",
    "\n",
    "\n",
    "\n",
    "### Wine in Italy ###\n",
    "# wine_in_italy = reviews.country == 'Italy'\n",
    "# wine_in_italy\n",
    "\n",
    "\n",
    "\n",
    "## For Changing Values\n",
    "# reviews.loc[:,\"country\"] = \"Italy\"\n",
    "\n",
    "\n",
    "# reviews.loc[-1000:,'points'] => Last 1000 Rows\n",
    "\n",
    "\n",
    "# Select the `points` column, but only for wines made in Italy.\n",
    "# reviews.loc[reviews['country'] == 'Italy','points']\n",
    "\n",
    "# For Sorrting any columns\n",
    "# reviews.sort_values(['country','price'])\n",
    "\n",
    "country_counts = reviews['country'].value_counts()\n",
    "# country_counts\n",
    "country_counts.plot(kind=\"bar\",figsize=(30,10))"
   ]
  },
  {
   "cell_type": "code",
   "execution_count": null,
   "metadata": {},
   "outputs": [],
   "source": []
  }
 ],
 "metadata": {
  "kernelspec": {
   "display_name": "Python 3",
   "language": "python",
   "name": "python3"
  },
  "language_info": {
   "codemirror_mode": {
    "name": "ipython",
    "version": 3
   },
   "file_extension": ".py",
   "mimetype": "text/x-python",
   "name": "python",
   "nbconvert_exporter": "python",
   "pygments_lexer": "ipython3",
   "version": "3.6.5"
  }
 },
 "nbformat": 4,
 "nbformat_minor": 2
}
