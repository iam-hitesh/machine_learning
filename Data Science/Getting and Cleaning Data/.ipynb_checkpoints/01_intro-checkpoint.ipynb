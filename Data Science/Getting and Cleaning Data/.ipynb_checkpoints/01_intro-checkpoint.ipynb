{
 "cells": [
  {
   "cell_type": "markdown",
   "metadata": {},
   "source": [
    "### Intro to Data Science\n",
    "\n",
    "#### Here are steps for Data Science and Processing\n",
    "\n",
    "- Raw Data \n",
    "- Processing Script\n",
    "- Tidy Data\n",
    "- Data Analysis\n",
    "- Data Communication\n",
    "\n",
    "\n",
    "### Sources and Steps\n",
    "\n",
    "- Raw Data to Processed Data is the First Step\n",
    "- Get Data from https://data.baltimorecity.gov\n",
    "- Important Commands for Data Processing\n",
    " - getwd() // for Getting working directory\n",
    " - set(\"/Desktop/\") // For setting other working directory\n",
    "\n",
    "\n",
    "## For creating a file\n",
    "\n",
    "if(!file.exists(\"data\")){\n",
    "    dir.create(\"data\")\n",
    "}\n",
    "\n",
    "## For Downloading a File from Internet\n",
    "\n",
    "- download.file(fileURL,destFile,method)\n",
    "- fileURL <- \"https://data.baltimorecity.gov/api/views/aqgr-xx9h/rows.csv?accessType=DOWNLOAD\"\n",
    "- download.file(fileURL,'data/camera.csv',method=\"curl\")\n",
    "\n",
    "\n",
    "### Now read the local file using read.table()\n",
    "\n",
    "- This is little bit slower as it takes a lot of parameters and working on RAM so can cause problem on Big data\n",
    "Other Options are read.csv() or read.csv2()\n",
    "- cameraData <- read.table(\"data/speed.csv\") #Will not work\n",
    "- cameraData <- read.table('data/speed.csv',sep=\",\",header=TRUE)\n",
    "- head(cameraData)\n",
    "\n",
    "\n",
    "## For Reading Excel Files\n",
    "- library(xlsx)\n",
    "- camData <- read.xlsx('data/speed_excel.xlsx',sheetIndex=1,header=TRUE)\n",
    "- head(camData)\n",
    "\n",
    "- colIndex <- 2:3\n",
    "- rowIndex <- 1:4\n",
    "- camData <- read.xlsx('data/speed_excel.xlsx',sheetIndex=1,colIndex=colIndex,rowIndex=rowIndex)\n",
    "\n",
    "### write.xlsx() for writing Excel file\n",
    "### xlsx2, XLConnect are other better options\n",
    "\n"
   ]
  }
 ],
 "metadata": {
  "kernelspec": {
   "display_name": "Python 3",
   "language": "python",
   "name": "python3"
  },
  "language_info": {
   "codemirror_mode": {
    "name": "ipython",
    "version": 3
   },
   "file_extension": ".py",
   "mimetype": "text/x-python",
   "name": "python",
   "nbconvert_exporter": "python",
   "pygments_lexer": "ipython3",
   "version": "3.6.5"
  }
 },
 "nbformat": 4,
 "nbformat_minor": 2
}
