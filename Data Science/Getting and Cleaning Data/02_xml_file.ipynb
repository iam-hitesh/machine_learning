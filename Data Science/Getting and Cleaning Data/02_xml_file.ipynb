{
 "cells": [
  {
   "cell_type": "markdown",
   "metadata": {},
   "source": [
    "# Getting and Reading data from XML\n",
    "\n",
    "## XML\n",
    "\n",
    "* Extensible Markup Lang\n",
    "* Frequently used to store structured data\n",
    "* Particularly widely used in Internet Applications\n",
    "* Extracting XML is the basis for most web scrapping\n",
    "* Components \n",
    "   * Markup - labels that give the table structure\n",
    "   * Content - the actual text of the document\n",
    "\n",
    "[https://en.wikipedia.org/wiki/XML](https://en.wikipedia.or/wiki/XML)"
   ]
  },
  {
   "cell_type": "markdown",
   "metadata": {},
   "source": [
    "## Tags, elements and Attributes\n",
    "\n",
    "* Tags correspond to general labels\n",
    "   * <section>  - Start tag\n",
    "   * </section> - End tags\n",
    "   * <line-break /> - Empty tag\n",
    "* Elements are specific examples of Tags\n",
    "   * <Greeting>Hello World!</Greeting>\n",
    "* Attributes are the components of label\n",
    "   * <img src=\"any.jpg\" alt=\"Instructor\" />\n",
    "   * <step number=\"3\"> Connect A to B</step>\n"
   ]
  }
 ],
 "metadata": {
  "kernelspec": {
   "display_name": "Python 3",
   "language": "python",
   "name": "python3"
  },
  "language_info": {
   "codemirror_mode": {
    "name": "ipython",
    "version": 3
   },
   "file_extension": ".py",
   "mimetype": "text/x-python",
   "name": "python",
   "nbconvert_exporter": "python",
   "pygments_lexer": "ipython3",
   "version": "3.6.5"
  }
 },
 "nbformat": 4,
 "nbformat_minor": 2
}
