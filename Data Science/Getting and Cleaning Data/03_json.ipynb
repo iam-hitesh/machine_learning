{
 "cells": [
  {
   "cell_type": "markdown",
   "metadata": {},
   "source": [
    "# JSON Files\n",
    "\n",
    "### About json\n",
    "\n",
    "* Javascript Object Notation\n",
    "* Lightweight data storage\n",
    "* Common format for data from application programming interfaces (APIs)\n",
    "* Similar structure to XML but different syntax/format\n",
    "* Data stored as\n",
    "  * Numbers (double)\n",
    "  * Strings (double quoted)\n",
    "  * Boolean (true or false)\n",
    "  * Array (ordered, comma separated enclosed in square brackets [])\n",
    "  * Object (unorderd, comma separated collection of key:value pairs in curley brackets {})\n",
    "\n",
    "[http://en.wikipedia.org/wiki/JSON](http://en.wikipedia.org/wiki/JSON)"
   ]
  },
  {
   "cell_type": "markdown",
   "metadata": {},
   "source": [
    "- library(jsonlite)\n",
    "\n",
    "- jsonData <- fromJSON('https://api.github.com/users/ihiteish/repos')\n",
    "\n",
    "- names(jsonData)\n",
    "- names(jsonData$owner)\n",
    "- jsonData$owner$login\n",
    "- myjson <- toJSON(iris,pretty=TRUE)\n",
    "- cat(myjson)"
   ]
  },
  {
   "cell_type": "markdown",
   "metadata": {},
   "source": [
    "# Using data.table\n",
    "\n",
    "* Inherets from data.frame\n",
    "* All functions that accept data.frame work on data.table\n",
    "* Written in C so it is much faster\n",
    "* Much, much faster at subsetting, group, and updating"
   ]
  },
  {
   "cell_type": "markdown",
   "metadata": {},
   "source": [
    "# data.table\n",
    "\n",
    "- library(data.table)\n",
    "- DF = data.frame(x=rnorm(9),y=rep(c(&quot;a&quot;,&quot;b&quot;,&quot;c&quot;),each=3),z=rnorm(9))\n",
    "- head(DF,3)\n",
    "\n",
    "\n",
    "-       x   y        z\n",
    "- 1 0.4159  a   -0.05855\n",
    "- 2 0.8433  a    0.13732\n",
    "- 3 1.0585  a    2.16448"
   ]
  }
 ],
 "metadata": {
  "kernelspec": {
   "display_name": "Python 3",
   "language": "python",
   "name": "python3"
  },
  "language_info": {
   "codemirror_mode": {
    "name": "ipython",
    "version": 3
   },
   "file_extension": ".py",
   "mimetype": "text/x-python",
   "name": "python",
   "nbconvert_exporter": "python",
   "pygments_lexer": "ipython3",
   "version": "3.6.5"
  }
 },
 "nbformat": 4,
 "nbformat_minor": 2
}
