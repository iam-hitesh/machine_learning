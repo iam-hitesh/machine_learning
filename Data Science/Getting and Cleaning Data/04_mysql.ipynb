{
 "cells": [
  {
   "cell_type": "markdown",
   "metadata": {},
   "source": [
    "# Database (MySQL) \n",
    "\n",
    "* Free and widely used open source database software\n",
    "* Widely used in internet based applications\n",
    "* Data are structured in \n",
    "  * Databases\n",
    "  * Tables within databases\n",
    "  * Fields within tables\n",
    "  * Each row is called a record\n",
    "\n",
    "\n",
    "\n",
    "- Install dbConnect before using these functions and use library(dbConnect)\n",
    "- ucscDb <- dbConnect(MySQL(),user='genome',host='genome-mysql.cse.ucsc.edu')\n",
    "- result <- dbGetQuery(ucscDb,\"Show Database:\");\n",
    "- dbDisconnect(ucscDb)\n"
   ]
  }
 ],
 "metadata": {
  "kernelspec": {
   "display_name": "Python 3",
   "language": "python",
   "name": "python3"
  },
  "language_info": {
   "codemirror_mode": {
    "name": "ipython",
    "version": 3
   },
   "file_extension": ".py",
   "mimetype": "text/x-python",
   "name": "python",
   "nbconvert_exporter": "python",
   "pygments_lexer": "ipython3",
   "version": "3.6.5"
  }
 },
 "nbformat": 4,
 "nbformat_minor": 2
}
