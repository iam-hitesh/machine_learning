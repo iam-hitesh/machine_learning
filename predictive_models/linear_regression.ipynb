{
 "cells": [
  {
   "cell_type": "markdown",
   "metadata": {},
   "source": [
    "# Predictive Models and Algorithms\n",
    "\n",
    "### 1.) Linear Regression\n",
    "\n",
    "Let's fabricate some data that shows a roughly linear relationship between page speed and amount purchased.\n",
    "\n",
    "This is very easy concept which follows the rule of st. line y = mx + c"
   ]
  },
  {
   "cell_type": "code",
   "execution_count": 3,
   "metadata": {},
   "outputs": [
    {
     "data": {
      "text/plain": [
       "<matplotlib.collections.PathCollection at 0x10b6b5cf8>"
      ]
     },
     "execution_count": 3,
     "metadata": {},
     "output_type": "execute_result"
    }
   ],
   "source": [
    "import numpy as np\n",
    "from matplotlib import pyplot as plt\n",
    "\n",
    "pageSpeeds = np.random.normal(3.0,1.0,1000)\n",
    "purchaseAmount = 100 - (pageSpeeds + np.random.normal(0,0.1,1000)) * 3\n",
    "\n",
    "plt.scatter(pageSpeeds, purchaseAmount)"
   ]
  },
  {
   "cell_type": "markdown",
   "metadata": {},
   "source": [
    "As we have only two features, we can keep it simple and just use scipy.state.linregress"
   ]
  },
  {
   "cell_type": "code",
   "execution_count": 5,
   "metadata": {},
   "outputs": [],
   "source": [
    "from scipy import stats\n",
    "\n",
    "slope, intercept, r_value, p_value, std_err = stats.linregress(pageSpeeds, purchaseAmount)"
   ]
  },
  {
   "cell_type": "markdown",
   "metadata": {},
   "source": [
    "Not surprisingly, our R-squared value shows a really good fit."
   ]
  },
  {
   "cell_type": "code",
   "execution_count": 20,
   "metadata": {},
   "outputs": [
    {
     "data": {
      "text/plain": [
       "0.9897503153030023"
      ]
     },
     "execution_count": 20,
     "metadata": {},
     "output_type": "execute_result"
    }
   ],
   "source": [
    "r_value ** 2"
   ]
  },
  {
   "cell_type": "code",
   "execution_count": 7,
   "metadata": {},
   "outputs": [
    {
     "data": {
      "text/plain": [
       "[<matplotlib.lines.Line2D at 0x10da8bc50>]"
      ]
     },
     "execution_count": 7,
     "metadata": {},
     "output_type": "execute_result"
    },
    {
     "data": {
      "image/png": "[encoded data removed]",
      "text/plain": [
       "<Figure size 432x288 with 1 Axes>"
      ]
     },
     "metadata": {},
     "output_type": "display_data"
    }
   ],
   "source": [
    "def predict(x):\n",
    "    return slope * x + intercept\n",
    "\n",
    "fitLine = predict(pageSpeeds)\n",
    "\n",
    "plt.scatter(pageSpeeds, purchaseAmount)\n",
    "plt.plot(pageSpeeds, fitLine, c='r')"
   ]
  },
  {
   "cell_type": "markdown",
   "metadata": {},
   "source": [
    "The equation of a straight line is y = mx + b, where m is the slope of the line and b is the y intercept\n",
    "\n",
    "![m and b in y = mx + b](y_m_x_c.png \"Formula for finding m(slope) and b(constant)\")\n",
    "\n",
    "I already have our X and y values, so now I need to calculate m and b. The formulas for these can be written as:\n",
    "\n",
    "![m and b in y = mx + b](linear_regression_m_b.png \"Formula for finding m(slope) and b(constant)\")\n",
    "\n",
    "### Calculating R squared\n",
    "\n",
    "Now that I have fitted the prediction line, I want to calculate how close the data is to this line by using the coefficient of determination — R squared.\n",
    "\n",
    "SSres: I’ll start by calculating the sum of the residuals — the euclidean distance between the actual data points on the y axis and their corresponding predicted values along the regression line. I’ll square these distances; the reason for this is that if I have one value five units above the line (+5) and another five units below the line (-5), they will cancel each other out and give the impression that the data is closer to the line that it actually is. Squaring these distances ensures they are all positive values.\n",
    "\n",
    "SStot: then I want to calculate the distance between the actual data points on the y axis, and the mean of y — again squaring the result.\n",
    "\n",
    "So the formula for R squared is 1 - SSres / SStot:\n",
    "\n",
    "![m and b in y = mx + b](r_2.png \"Formula for finding m(slope) and b(constant)\")"
   ]
  },
  {
   "cell_type": "code",
   "execution_count": null,
   "metadata": {},
   "outputs": [],
   "source": []
  }
 ],
 "metadata": {
  "kernelspec": {
   "display_name": "Python 3",
   "language": "python",
   "name": "python3"
  },
  "language_info": {
   "codemirror_mode": {
    "name": "ipython",
    "version": 3
   },
   "file_extension": ".py",
   "mimetype": "text/x-python",
   "name": "python",
   "nbconvert_exporter": "python",
   "pygments_lexer": "ipython3",
   "version": "3.6.5"
  }
 },
 "nbformat": 4,
 "nbformat_minor": 2
}
